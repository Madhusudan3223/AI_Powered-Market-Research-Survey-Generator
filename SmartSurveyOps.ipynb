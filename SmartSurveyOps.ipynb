{
  "nbformat": 4,
  "nbformat_minor": 0,
  "metadata": {
    "colab": {
      "provenance": [],
      "authorship_tag": "ABX9TyOWH5eTpHMzPfPKdu8vYR2r",
      "include_colab_link": true
    },
    "kernelspec": {
      "name": "python3",
      "display_name": "Python 3"
    },
    "language_info": {
      "name": "python"
    }
  },
  "cells": [
    {
      "cell_type": "markdown",
      "metadata": {
        "id": "view-in-github",
        "colab_type": "text"
      },
      "source": [
        "<a href=\"https://colab.research.google.com/github/Madhusudan3223/gemini-survey-builder/blob/main/SmartSurveyOps.ipynb\" target=\"_parent\"><img src=\"https://colab.research.google.com/assets/colab-badge.svg\" alt=\"Open In Colab\"/></a>"
      ]
    },
    {
      "cell_type": "markdown",
      "source": [
        "# 📋 SmartSurveyOps – AI-Powered Market Research Survey Generator\n",
        "\n",
        "SmartSurveyOps is an AI-powered tool that auto-generates dynamic market research surveys using Gemini API and displays them via an interactive Streamlit UI.\n",
        "\n",
        "🚀 Hosted on: [Hugging Face Spaces](https://huggingface.co/spaces/madhumandal/SmartSurveyOps)\n",
        "\n",
        "## 🔍 Features\n",
        "\n",
        "- Pre-generated survey using Gemini LLM\n",
        "- User-friendly Streamlit interface\n",
        "- JSON-driven questions and options\n",
        "- Collects structured responses from users\n",
        "- Tailored for **AI Market Research** workflows\n",
        "\n",
        "\n",
        "## 💡 Example Survey Questions\n",
        "\n",
        "- What is your primary role in market research?\n",
        "- How often do you use AI tools for survey analysis?\n",
        "- Which features would you like in an AI-powered survey tool?\n",
        "- Any additional feedback?\n",
        "\n"
      ],
      "metadata": {
        "id": "u7zPnA4GvLiH"
      }
    },
    {
      "cell_type": "markdown",
      "source": [
        "### 🔧 Install Required Libraries\n",
        "\n",
        "Run the following cell to install all necessary Python packages for this project:\n"
      ],
      "metadata": {
        "id": "lycwMBCihOBw"
      }
    },
    {
      "cell_type": "code",
      "execution_count": 1,
      "metadata": {
        "id": "MirLqfCfVVcr"
      },
      "outputs": [],
      "source": [
        "!pip install -q google-generativeai pandas tqdm scikit-learn\n"
      ]
    },
    {
      "cell_type": "markdown",
      "source": [
        "### 🚀  Import & Configure Gemini API\n",
        "\n",
        "This cell imports necessary libraries, loads your Gemini API key from Colab secrets, configures the Gemini client, and tests if the Gemini API is working.\n"
      ],
      "metadata": {
        "id": "tsV-2tsDjfI7"
      }
    },
    {
      "cell_type": "code",
      "source": [
        "import os\n",
        "import google.generativeai as genai\n",
        "from google.colab import userdata\n",
        "\n",
        "# Load Gemini API key from Colab secrets\n",
        "GOOGLE_API_KEY = userdata.get('gemini_key')\n",
        "\n",
        "# Configure Gemini\n",
        "genai.configure(api_key=GOOGLE_API_KEY)\n",
        "\n",
        "# Test Gemini is working\n",
        "model = genai.GenerativeModel(\"models/gemini-1.5-flash-latest\")\n",
        "response = model.generate_content(\"Hello, Gemini is working!\")\n",
        "print(\"Gemini Test Response:\", response.text)"
      ],
      "metadata": {
        "colab": {
          "base_uri": "https://localhost:8080/",
          "height": 52
        },
        "id": "sehAK1ngVc_K",
        "outputId": "9e4aa65e-e257-4a9e-b54f-ae5d3addfdef"
      },
      "execution_count": 4,
      "outputs": [
        {
          "output_type": "stream",
          "name": "stdout",
          "text": [
            "Gemini Test Response: That's great to hear!  Is there anything I can help you with regarding Gemini or any other task?\n",
            "\n"
          ]
        }
      ]
    },
    {
      "cell_type": "markdown",
      "source": [
        "### 🔮 Gemini Survey Generator Function\n",
        "\n",
        "This function uses the Gemini 1.5 Pro model to generate dynamic surveys based on a user-defined prompt.\n"
      ],
      "metadata": {
        "id": "i-YkCKNciC3j"
      }
    },
    {
      "cell_type": "code",
      "source": [
        "def generate_survey(prompt):\n",
        "    model = GenerativeModel(\"gemini-1.5-pro-latest\")\n",
        "    response = model.generate_content(prompt)\n",
        "    return response.text\n"
      ],
      "metadata": {
        "id": "a8bWF_0TWQLg"
      },
      "execution_count": 6,
      "outputs": []
    },
    {
      "cell_type": "markdown",
      "source": [
        "### ✅  Import and Configure Gemini API\n",
        "\n",
        "In this step, we import the required libraries and configure access to the Gemini API using your API key stored securely in Google Colab.\n"
      ],
      "metadata": {
        "id": "FZ46H62ziZgv"
      }
    },
    {
      "cell_type": "code",
      "source": [
        "# STEP 1: Import and configure Gemini API\n",
        "import os\n",
        "import google.generativeai as genai\n",
        "from google.colab import userdata\n",
        "\n",
        "# Load API key from Colab secrets\n",
        "api_key = userdata.get('gemini_key')\n",
        "\n",
        "genai.configure(api_key=api_key)\n",
        "\n",
        "# Test Gemini API\n",
        "model = genai.GenerativeModel(\"gemini-1.5-flash-latest\")\n",
        "response = model.generate_content(\"Say: Gemini API is working!\")\n",
        "print(\"Gemini Test Response:\", response.text)"
      ],
      "metadata": {
        "colab": {
          "base_uri": "https://localhost:8080/",
          "height": 52
        },
        "id": "PXkXnVD3W4qB",
        "outputId": "9a9d8c88-3c22-4a02-8479-4c0b5a40ddab"
      },
      "execution_count": 11,
      "outputs": [
        {
          "output_type": "stream",
          "name": "stdout",
          "text": [
            "Gemini Test Response: Gemini API is working!\n",
            "\n"
          ]
        }
      ]
    },
    {
      "cell_type": "markdown",
      "source": [
        "### 🧠  Define a Function to Generate Surveys using Gemini\n",
        "\n",
        "We define a reusable function `generate_survey()` that takes a natural language prompt and returns AI-generated survey content using the Gemini API.\n"
      ],
      "metadata": {
        "id": "dQBjylTzild7"
      }
    },
    {
      "cell_type": "code",
      "source": [
        "# : Define a function to generate surveys using Gemini\n",
        "def generate_survey(prompt):\n",
        "    model = genai.GenerativeModel(\"gemini-1.5-flash-latest\")\n",
        "    response = model.generate_content(prompt)\n",
        "    return response.text"
      ],
      "metadata": {
        "id": "eJn1kjGqXDdM"
      },
      "execution_count": 14,
      "outputs": []
    },
    {
      "cell_type": "markdown",
      "source": [
        "### ✅ : Test the Survey Generation\n",
        "\n",
        "We test the `generate_survey()` function with a prompt to create a **Customer Satisfaction Survey** for an e-commerce website. The output is expected in **JSON format**.\n"
      ],
      "metadata": {
        "id": "71f_pXyUizzr"
      }
    },
    {
      "cell_type": "code",
      "source": [
        "#  Test the survey generation\n",
        "test_prompt = \"Generate a customer satisfaction survey with 5 questions in JSON format for an e-commerce website\"\n",
        "survey_json = generate_survey(test_prompt)\n",
        "\n",
        "print(\"Generated Survey:\\n\")\n",
        "print(survey_json)"
      ],
      "metadata": {
        "colab": {
          "base_uri": "https://localhost:8080/",
          "height": 1000
        },
        "id": "OdgWk8MzXotS",
        "outputId": "49b8c619-2443-4b7f-e635-2de9b4d4ec15"
      },
      "execution_count": 15,
      "outputs": [
        {
          "output_type": "stream",
          "name": "stdout",
          "text": [
            "Generated Survey:\n",
            "\n",
            "```json\n",
            "{\n",
            "  \"surveyTitle\": \"E-commerce Customer Satisfaction Survey\",\n",
            "  \"questions\": [\n",
            "    {\n",
            "      \"questionType\": \"rating\",\n",
            "      \"questionText\": \"How satisfied were you with the overall shopping experience on our website?\",\n",
            "      \"options\": [\n",
            "        {\"value\": 1, \"label\": \"Very Dissatisfied\"},\n",
            "        {\"value\": 2, \"label\": \"Dissatisfied\"},\n",
            "        {\"value\": 3, \"label\": \"Neutral\"},\n",
            "        {\"value\": 4, \"label\": \"Satisfied\"},\n",
            "        {\"value\": 5, \"label\": \"Very Satisfied\"}\n",
            "      ]\n",
            "    },\n",
            "    {\n",
            "      \"questionType\": \"rating\",\n",
            "      \"questionText\": \"How easy was it to find the products you were looking for?\",\n",
            "      \"options\": [\n",
            "        {\"value\": 1, \"label\": \"Very Difficult\"},\n",
            "        {\"value\": 2, \"label\": \"Difficult\"},\n",
            "        {\"value\": 3, \"label\": \"Neutral\"},\n",
            "        {\"value\": 4, \"label\": \"Easy\"},\n",
            "        {\"value\": 5, \"label\": \"Very Easy\"}\n",
            "      ]\n",
            "    },\n",
            "    {\n",
            "      \"questionType\": \"rating\",\n",
            "      \"questionText\": \"How satisfied were you with the speed of delivery?\",\n",
            "      \"options\": [\n",
            "        {\"value\": 1, \"label\": \"Very Dissatisfied\"},\n",
            "        {\"value\": 2, \"label\": \"Dissatisfied\"},\n",
            "        {\"value\": 3, \"label\": \"Neutral\"},\n",
            "        {\"value\": 4, \"label\": \"Satisfied\"},\n",
            "        {\"value\": 5, \"label\": \"Very Satisfied\"}\n",
            "      ]\n",
            "    },\n",
            "    {\n",
            "      \"questionType\": \"text\",\n",
            "      \"questionText\": \"Is there anything else you would like to share about your experience?\"\n",
            "    },\n",
            "    {\n",
            "      \"questionType\": \"multipleChoice\",\n",
            "      \"questionText\": \"How likely are you to recommend our website to a friend or colleague?\",\n",
            "      \"options\": [\n",
            "        {\"value\": 1, \"label\": \"Not at all likely\"},\n",
            "        {\"value\": 2, \"label\": \"Unlikely\"},\n",
            "        {\"value\": 3, \"label\": \"Neutral\"},\n",
            "        {\"value\": 4, \"label\": \"Likely\"},\n",
            "        {\"value\": 5, \"label\": \"Very likely\"}\n",
            "      ]\n",
            "    }\n",
            "  ]\n",
            "}\n",
            "```\n",
            "\n"
          ]
        }
      ]
    },
    {
      "cell_type": "markdown",
      "source": [
        "### 💾  Save the Generated Survey to a JSON File\n",
        "\n",
        "We save the generated survey (returned as a JSON string from Gemini) to a file named `generated_survey.json`.\n"
      ],
      "metadata": {
        "id": "4gbLpmSui8kB"
      }
    },
    {
      "cell_type": "code",
      "source": [
        "import json\n",
        "\n",
        "# Save the survey JSON to a file\n",
        "with open(\"generated_survey.json\", \"w\") as f:\n",
        "    json.dump(survey_json, f, indent=4)\n",
        "\n",
        "print(\"Survey saved to generated_survey.json ✅\")\n"
      ],
      "metadata": {
        "colab": {
          "base_uri": "https://localhost:8080/"
        },
        "id": "pZS8RVROXs_a",
        "outputId": "e11a410e-d90f-4f43-952c-0223c19191f7"
      },
      "execution_count": 17,
      "outputs": [
        {
          "output_type": "stream",
          "name": "stdout",
          "text": [
            "Survey saved to generated_survey.json ✅\n"
          ]
        }
      ]
    },
    {
      "cell_type": "markdown",
      "source": [
        "### 📥: Download the Generated Survey File\n",
        "\n",
        "Use this cell to download the `generated_survey.json` file to your local machine.\n"
      ],
      "metadata": {
        "id": "hvrJQMNNjEEt"
      }
    },
    {
      "cell_type": "code",
      "source": [
        "from google.colab import files\n",
        "files.download(\"generated_survey.json\")\n"
      ],
      "metadata": {
        "colab": {
          "base_uri": "https://localhost:8080/",
          "height": 17
        },
        "id": "2O7LVgc5X91K",
        "outputId": "0942b3d0-d2b2-4391-93c9-c3752ebbcc63"
      },
      "execution_count": 19,
      "outputs": [
        {
          "output_type": "display_data",
          "data": {
            "text/plain": [
              "<IPython.core.display.Javascript object>"
            ],
            "application/javascript": [
              "\n",
              "    async function download(id, filename, size) {\n",
              "      if (!google.colab.kernel.accessAllowed) {\n",
              "        return;\n",
              "      }\n",
              "      const div = document.createElement('div');\n",
              "      const label = document.createElement('label');\n",
              "      label.textContent = `Downloading \"${filename}\": `;\n",
              "      div.appendChild(label);\n",
              "      const progress = document.createElement('progress');\n",
              "      progress.max = size;\n",
              "      div.appendChild(progress);\n",
              "      document.body.appendChild(div);\n",
              "\n",
              "      const buffers = [];\n",
              "      let downloaded = 0;\n",
              "\n",
              "      const channel = await google.colab.kernel.comms.open(id);\n",
              "      // Send a message to notify the kernel that we're ready.\n",
              "      channel.send({})\n",
              "\n",
              "      for await (const message of channel.messages) {\n",
              "        // Send a message to notify the kernel that we're ready.\n",
              "        channel.send({})\n",
              "        if (message.buffers) {\n",
              "          for (const buffer of message.buffers) {\n",
              "            buffers.push(buffer);\n",
              "            downloaded += buffer.byteLength;\n",
              "            progress.value = downloaded;\n",
              "          }\n",
              "        }\n",
              "      }\n",
              "      const blob = new Blob(buffers, {type: 'application/binary'});\n",
              "      const a = document.createElement('a');\n",
              "      a.href = window.URL.createObjectURL(blob);\n",
              "      a.download = filename;\n",
              "      div.appendChild(a);\n",
              "      a.click();\n",
              "      div.remove();\n",
              "    }\n",
              "  "
            ]
          },
          "metadata": {}
        },
        {
          "output_type": "display_data",
          "data": {
            "text/plain": [
              "<IPython.core.display.Javascript object>"
            ],
            "application/javascript": [
              "download(\"download_4f941953-bd72-4d1a-bcef-d802920ddba9\", \"generated_survey.json\", 2022)"
            ]
          },
          "metadata": {}
        }
      ]
    }
  ]
}